{
 "cells": [
  {
   "cell_type": "markdown",
   "metadata": {},
   "source": [
    "# Validator\n",
    "\n",
    "This notebook goes over how to use the Validator component to visualze your LLM prompt and its output."
   ]
  },
  {
   "cell_type": "code",
   "execution_count": null,
   "metadata": {},
   "outputs": [],
   "source": [
    "from langchain.utilities import ValidatorWrapper"
   ]
  },
  {
   "cell_type": "code",
   "execution_count": null,
   "metadata": {},
   "outputs": [],
   "source": [
    "# Either set enviroment variable VALIDATOR_API_KEY or\n",
    "# call the wrapper with validator_api_key, ValidatorWrapper(validator_api_key=...)\n",
    "tool = ValidatorWrapper()"
   ]
  },
  {
   "cell_type": "code",
   "execution_count": null,
   "metadata": {
    "tags": []
   },
   "outputs": [],
   "source": [
    "tool.run(params={\n",
    "    \"input_text\": \"An apple is red. A banana is yellow. What color is an apple?\",\n",
    "    \"generated_text\": \"An apple is red\",\n",
    "})"
   ]
  }
 ],
 "metadata": {
  "language_info": {
   "name": "python"
  },
  "orig_nbformat": 4
 },
 "nbformat": 4,
 "nbformat_minor": 2
}
