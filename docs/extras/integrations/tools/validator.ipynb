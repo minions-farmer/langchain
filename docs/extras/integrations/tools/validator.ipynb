{
 "cells": [
  {
   "cell_type": "markdown",
   "metadata": {},
   "source": [
    "# Validator\n",
    "\n",
    "This notebook goes over how to use the Validator wrapper to visualze your LLM prompt and its output."
   ]
  },
  {
   "cell_type": "code",
   "execution_count": null,
   "metadata": {},
   "outputs": [],
   "source": [
    "from langchain.utilities import ValidatorWrapper"
   ]
  },
  {
   "cell_type": "code",
   "execution_count": null,
   "metadata": {},
   "outputs": [],
   "source": [
    "# Either set enviroment variable VALIDATOR_API_KEY or\n",
    "# call the wrapper with validator_api_key, ValidatorWrapper(validator_api_key=...)\n",
    "validator = ValidatorWrapper()"
   ]
  },
  {
   "cell_type": "code",
   "execution_count": null,
   "metadata": {
    "tags": []
   },
   "outputs": [],
   "source": [
    "# the url points to a webpage with validation visualization\n",
    "url = validator.run(\n",
    "    input_text=\"An apple is red. A banana is yellow. What color is an apple?\",\n",
    "    generated_text=\"An apple is red\",\n",
    ")"
   ]
  }
 ],
 "metadata": {
  "language_info": {
   "name": "python"
  },
  "orig_nbformat": 4
 },
 "nbformat": 4,
 "nbformat_minor": 2
}
